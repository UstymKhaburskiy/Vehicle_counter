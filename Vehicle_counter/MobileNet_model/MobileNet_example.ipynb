{
 "cells": [
  {
   "cell_type": "code",
   "execution_count": 3,
   "id": "0d434fb0",
   "metadata": {},
   "outputs": [],
   "source": [
    "from tensorflow import keras\n",
    "import tensorflow as tf\n",
    "import os\n",
    "import pandas as pd\n",
    "import numpy as np"
   ]
  },
  {
   "cell_type": "code",
   "execution_count": 4,
   "id": "5f2889d3",
   "metadata": {},
   "outputs": [],
   "source": [
    "parent_dir_path = os.path.dirname(os.getcwd())\n",
    "parent_dir_path = parent_dir_path.replace(\"\\\\\", \"/\")"
   ]
  },
  {
   "cell_type": "code",
   "execution_count": 31,
   "id": "2329ea24",
   "metadata": {},
   "outputs": [],
   "source": [
    "model = keras.models.load_model('MobileNet_trained.h5')"
   ]
  },
  {
   "cell_type": "code",
   "execution_count": 8,
   "id": "b5eaf0ea",
   "metadata": {},
   "outputs": [],
   "source": [
    "test_data_file = parent_dir_path + \"/DataPreparation/MobileNet_Data/test_60_records_from_Schleusinger-Allee.hdf5\"\n",
    "test_data = pd.read_hdf(test_data_file, \"IDMT_traffic\")\n",
    "test_soundmaps = tf.stack(test_data.SoundMap.to_numpy())"
   ]
  },
  {
   "cell_type": "code",
   "execution_count": 32,
   "id": "dc3ef7c1",
   "metadata": {},
   "outputs": [
    {
     "name": "stdout",
     "output_type": "stream",
     "text": [
      "1/1 [==============================] - 0s 415ms/step\n"
     ]
    }
   ],
   "source": [
    "test_preds = model.predict(test_soundmaps, \n",
    "                           batch_size=64, verbose=True)"
   ]
  },
  {
   "cell_type": "code",
   "execution_count": 12,
   "id": "bcd10605",
   "metadata": {},
   "outputs": [],
   "source": [
    "from sklearn.preprocessing import LabelEncoder\n",
    "lab_enc = LabelEncoder()\n",
    "all_labels = lab_enc.fit_transform(['L', 'None', 'R'])"
   ]
  },
  {
   "cell_type": "code",
   "execution_count": 33,
   "id": "60fe5d70",
   "metadata": {},
   "outputs": [],
   "source": [
    "predictions = lab_enc.classes_[np.argsort(-test_preds, axis=1)[:, :1]]\n",
    "y_pred = [' '.join([cat for cat in row]) for row in predictions]"
   ]
  },
  {
   "cell_type": "code",
   "execution_count": 35,
   "id": "f1d5950e",
   "metadata": {},
   "outputs": [],
   "source": [
    "def f_measure(Y_true, Y_pred):\n",
    "    true_positives = 0\n",
    "    false_positives = 0\n",
    "    true_elements = Y_true.count('L') + Y_true.count('R')\n",
    "    \n",
    "    for i in range(len(Y_true)):\n",
    "        if Y_true[i] == Y_pred[i]:\n",
    "            if Y_pred[i] != 'None':\n",
    "                true_positives += 1\n",
    "        elif Y_pred[i] != 'None':\n",
    "            false_positives += 1\n",
    "            print(f\"index of false_positive: {i}\")\n",
    "        else:\n",
    "            print(f\"index of false_negative: {i}\")\n",
    "    \n",
    "    precision = true_positives/(true_positives+false_positives)\n",
    "    recall = true_positives/true_elements\n",
    "    f = 2*precision*recall/(precision+recall)\n",
    "    print(f\"Precision: {precision}, Recall: {recall}, F-measure: {f}\")\n",
    "    return f"
   ]
  },
  {
   "cell_type": "code",
   "execution_count": 21,
   "id": "8ce05863",
   "metadata": {},
   "outputs": [],
   "source": [
    "y_true = test_data.source_direction.to_list()"
   ]
  },
  {
   "cell_type": "code",
   "execution_count": 36,
   "id": "cb48f02e",
   "metadata": {},
   "outputs": [
    {
     "name": "stdout",
     "output_type": "stream",
     "text": [
      "index of false_positive: 43\n",
      "Precision: 0.9705882352941176, Recall: 1.0, F-measure: 0.9850746268656716\n"
     ]
    },
    {
     "data": {
      "text/plain": [
       "0.9850746268656716"
      ]
     },
     "execution_count": 36,
     "metadata": {},
     "output_type": "execute_result"
    }
   ],
   "source": [
    "f_measure(y_true, y_pred)"
   ]
  },
  {
   "cell_type": "code",
   "execution_count": 37,
   "id": "c0848ec7",
   "metadata": {},
   "outputs": [
    {
     "data": {
      "text/plain": [
       "'2019-11-12-09-00_Schleusinger-Allee_70Kmh_13662720_SE_CH34-BG.wav'"
      ]
     },
     "execution_count": 37,
     "metadata": {},
     "output_type": "execute_result"
    }
   ],
   "source": [
    "test_data['file'].iloc[43]"
   ]
  },
  {
   "cell_type": "code",
   "execution_count": 41,
   "id": "408a37fd",
   "metadata": {},
   "outputs": [],
   "source": [
    "wrong_test = tf.stack([test_data.SoundMap.iloc[43]])"
   ]
  },
  {
   "cell_type": "code",
   "execution_count": 42,
   "id": "294169ee",
   "metadata": {},
   "outputs": [
    {
     "name": "stdout",
     "output_type": "stream",
     "text": [
      "1/1 [==============================] - 0s 20ms/step\n"
     ]
    }
   ],
   "source": [
    "wrong_prediction = model.predict(wrong_test, \n",
    "                           batch_size=64, verbose=True)"
   ]
  },
  {
   "cell_type": "code",
   "execution_count": 43,
   "id": "519e1716",
   "metadata": {},
   "outputs": [
    {
     "data": {
      "text/plain": [
       "array([[0.02113105, 0.00769971, 0.9711692 ]], dtype=float32)"
      ]
     },
     "execution_count": 43,
     "metadata": {},
     "output_type": "execute_result"
    }
   ],
   "source": [
    "wrong_prediction"
   ]
  },
  {
   "cell_type": "code",
   "execution_count": 47,
   "id": "c7df92f5",
   "metadata": {},
   "outputs": [
    {
     "data": {
      "image/png": "[encoded data removed]",
      "text/plain": [
       "<Figure size 432x288 with 1 Axes>"
      ]
     },
     "metadata": {
      "needs_background": "light"
     },
     "output_type": "display_data"
    }
   ],
   "source": [
    "import sys\n",
    "sys.path.append(parent_dir_path)\n",
    "from SoundMap.TimeDelay import *\n",
    "plot_time_delays(np.array(wrong_test[0]))"
   ]
  },
  {
   "cell_type": "code",
   "execution_count": 48,
   "id": "ab2f9b47",
   "metadata": {},
   "outputs": [
    {
     "data": {
      "image/png": "[encoded data removed]",
      "text/plain": [
       "<Figure size 432x288 with 1 Axes>"
      ]
     },
     "metadata": {
      "needs_background": "light"
     },
     "output_type": "display_data"
    }
   ],
   "source": [
    "plot_time_delays(np.array(test_soundmaps[0]))"
   ]
  }
 ],
 "metadata": {
  "kernelspec": {
   "display_name": "Python 3",
   "language": "python",
   "name": "python3"
  },
  "language_info": {
   "codemirror_mode": {
    "name": "ipython",
    "version": 3
   },
   "file_extension": ".py",
   "mimetype": "text/x-python",
   "name": "python",
   "nbconvert_exporter": "python",
   "pygments_lexer": "ipython3",
   "version": "3.8.8"
  }
 },
 "nbformat": 4,
 "nbformat_minor": 5
}
