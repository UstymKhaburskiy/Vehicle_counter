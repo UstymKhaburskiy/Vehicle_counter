{
 "cells": [
  {
   "cell_type": "code",
   "execution_count": 1,
   "id": "3b5cc539",
   "metadata": {},
   "outputs": [],
   "source": [
    "import soundfile as sf\n",
    "import numpy as np\n",
    "from IDMT_open import *\n",
    "import os\n",
    "import sys\n",
    "\n",
    "parent_dir_path = os.path.dirname(os.getcwd())\n",
    "sys.path.append(parent_dir_path)\n",
    "\n",
    "from SoundMap.TimeDelay import *"
   ]
  },
  {
   "cell_type": "code",
   "execution_count": 2,
   "id": "ec0f5a31",
   "metadata": {},
   "outputs": [],
   "source": [
    "id_of_last_long_record = 10"
   ]
  },
  {
   "cell_type": "code",
   "execution_count": 3,
   "id": "737fd7d2",
   "metadata": {},
   "outputs": [],
   "source": [
    "def combine_records_2min(index=id_of_last_long_record, location=\"Schleusinger-Allee\", sr=48000):\n",
    "    \n",
    "    dataset_of_records = import_dataset_of_records(\"IDMT_traffic/IDMT_traffic/annotation/idmt_traffic_all.txt\")\n",
    "    dataset_of_records = dataset_of_records.loc[dataset_of_records['location']==location]\n",
    "    \n",
    "    txt_file_name = f\"LongRecords/{index}.txt\"\n",
    "    \n",
    "    labels = []\n",
    "    final_signal_left, final_signal_right = np.array([]), np.array([])\n",
    "    last_index=0\n",
    "    for file in dataset_of_records.iloc[index*60:(index+1)*60].iloc:\n",
    "        signal = import_record(file['file'])\n",
    "        time_delay = time_delay_2d(signal)\n",
    "        if file['is_background']:\n",
    "            labels.append(f\"N|{last_index},{len(time_delay)+last_index}\")\n",
    "        else:\n",
    "            labels.append(f\"{file['source_direction']}|{last_index},{len(time_delay)+last_index}\")\n",
    "        last_index += len(time_delay) + 7\n",
    "        final_signal_left, final_signal_right = np.append(final_signal_left, signal[0]), np.append(final_signal_right, signal[1])\n",
    "    \n",
    "    final_signal = np.array([final_signal_left, final_signal_right]).T\n",
    "    record_name = f\"LongRecords/{index}.wav\"\n",
    "    \n",
    "    sf.write(record_name, final_signal, sr)\n",
    "    \n",
    "    txt_long_record = open(txt_file_name, \"w\")\n",
    "    txt_long_record.write(\"_\".join(labels))\n",
    "    txt_long_record.close()\n",
    "    "
   ]
  },
  {
   "cell_type": "code",
   "execution_count": 4,
   "id": "c58a39e3",
   "metadata": {},
   "outputs": [],
   "source": [
    "combine_records_2min(id_of_last_long_record)"
   ]
  }
 ],
 "metadata": {
  "kernelspec": {
   "display_name": "Python 3",
   "language": "python",
   "name": "python3"
  },
  "language_info": {
   "codemirror_mode": {
    "name": "ipython",
    "version": 3
   },
   "file_extension": ".py",
   "mimetype": "text/x-python",
   "name": "python",
   "nbconvert_exporter": "python",
   "pygments_lexer": "ipython3",
   "version": "3.8.8"
  }
 },
 "nbformat": 4,
 "nbformat_minor": 5
}
