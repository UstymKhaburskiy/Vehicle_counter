{
 "cells": [
  {
   "cell_type": "code",
   "execution_count": 1,
   "id": "25a209cd",
   "metadata": {},
   "outputs": [],
   "source": [
    "import os\n",
    "import sys\n",
    "import numpy as np\n",
    "import pandas as pd\n",
    "\n",
    "parent_dir_path = os.path.dirname(os.getcwd())\n",
    "sys.path.append(parent_dir_path)\n",
    "parent_dir_path = parent_dir_path.replace(\"\\\\\", \"/\")\n",
    "\n",
    "from SoundMap.TimeDelay import *\n",
    "from DataPreparation.IDMT_open import *"
   ]
  },
  {
   "cell_type": "code",
   "execution_count": 2,
   "id": "6b12d05e",
   "metadata": {},
   "outputs": [],
   "source": [
    "def records_to_delays(output_file_name, threshold=0.05, index_begin=0, index_end=2700, location=\"Schleusinger-Allee\"):\n",
    "    dataset_of_records = import_dataset_of_records(parent_dir_path+\"/DataPreparation/IDMT_traffic/IDMT_traffic/annotation/idmt_traffic_all.txt\")\n",
    "    dataset_of_records = dataset_of_records.loc[dataset_of_records['location']==location].iloc[index_begin:index_end]\n",
    "    dataset_of_records[\"SoundMap\"] = pd.Series([np.empty((48, 73, 1)) for i in range(len(dataset_of_records.file))])\n",
    "    print(f\"The process of computing time_delays of {len(dataset_of_records['file'])} records to file {output_file_name} begins...\")\n",
    "    i=0\n",
    "    for file_name in dataset_of_records['file']:\n",
    "        i+=1\n",
    "        if i%100==0:\n",
    "            print(f\"Current position: {i}\")\n",
    "        signal = import_record(file_name)\n",
    "        soundMap = time_delay_3d(signal, threshold=0.05)\n",
    "        dataset_of_records.loc[dataset_of_records[\"file\"]==file_name, \"SoundMap\"] = [soundMap[..., np.newaxis]]\n",
    "    output_file_name = \"MobileNet_Data/\" + output_file_name\n",
    "    dataset_of_records.to_hdf(output_file_name, \"IDMT_traffic\")\n",
    "    print(f\"DONE! Location:{parent_dir_path}/{output_file_name}\")"
   ]
  },
  {
   "cell_type": "code",
   "execution_count": 3,
   "id": "3af6386d",
   "metadata": {},
   "outputs": [
    {
     "name": "stdout",
     "output_type": "stream",
     "text": [
      "The process of computing time_delays of 60 records to file test_60_records_from_Schleusinger-Allee.hdf5 begins...\n",
      "DONE! Location:D:/University/AI/Project/test_60_records_from_Schleusinger-Allee.hdf5\n"
     ]
    },
    {
     "name": "stderr",
     "output_type": "stream",
     "text": [
      "c:\\users\\khaburskiy\\appdata\\local\\programs\\python\\python38\\lib\\site-packages\\pandas\\core\\generic.py:2606: PerformanceWarning: \n",
      "your performance may suffer as PyTables will pickle object types that it cannot\n",
      "map directly to c-types [inferred_type->mixed,key->block1_values] [items->Index(['file', 'date_time', 'location', 'speed_kmh', 'sample_pos', 'daytime',\n",
      "       'weather', 'vehicle', 'source_direction', 'microphone', 'channel',\n",
      "       'SoundMap'],\n",
      "      dtype='object')]\n",
      "\n",
      "  pytables.to_hdf(\n"
     ]
    }
   ],
   "source": [
    "records_to_delays(\"test_60_records_from_Schleusinger-Allee.hdf5\", index_end=60)"
   ]
  },
  {
   "cell_type": "code",
   "execution_count": 4,
   "id": "13d6b915",
   "metadata": {},
   "outputs": [
    {
     "name": "stdout",
     "output_type": "stream",
     "text": [
      "The process of computing time_delays of 1000 records to file train_1000_records_from_Schleusinger-Allee.hdf5 begins...\n",
      "Current position: 100\n",
      "Current position: 200\n",
      "Current position: 300\n",
      "Current position: 400\n",
      "Current position: 500\n",
      "Current position: 600\n",
      "Current position: 700\n",
      "Current position: 800\n",
      "Current position: 900\n",
      "Current position: 1000\n",
      "DONE! Location:D:/University/AI/Project/train_1000_records_from_Schleusinger-Allee.hdf5\n"
     ]
    }
   ],
   "source": [
    "records_to_delays(\"train_1000_records_from_Schleusinger-Allee.hdf5\", index_begin=60, index_end=1060)"
   ]
  }
 ],
 "metadata": {
  "kernelspec": {
   "display_name": "Python 3",
   "language": "python",
   "name": "python3"
  },
  "language_info": {
   "codemirror_mode": {
    "name": "ipython",
    "version": 3
   },
   "file_extension": ".py",
   "mimetype": "text/x-python",
   "name": "python",
   "nbconvert_exporter": "python",
   "pygments_lexer": "ipython3",
   "version": "3.8.8"
  }
 },
 "nbformat": 4,
 "nbformat_minor": 5
}
